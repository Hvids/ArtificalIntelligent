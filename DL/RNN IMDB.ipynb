{
 "cells": [
  {
   "cell_type": "code",
   "execution_count": 4,
   "metadata": {},
   "outputs": [],
   "source": [
    "import numpy as np\n",
    "import keras\n",
    "from keras.datasets import imdb\n",
    "from keras.models import Model, Sequential\n",
    "from keras.layers import LSTM, Dense, Dropout, Conv1D, MaxPool1D\n",
    "from keras.layers.embeddings import Embedding\n",
    "from keras.preprocessing import sequence"
   ]
  },
  {
   "cell_type": "code",
   "execution_count": null,
   "metadata": {},
   "outputs": [],
   "source": [
    "top_words = 5000\n",
    "max_review_length = 500\n",
    "(X_train, y_train), (X_test, y_test) = imdb.load_data(num_words=top_words)\n",
    "X_train = sequence.pad_sequences(X_train, maxlen=max_review_length)\n",
    "X_test = sequence.pad_sequences(X_test, maxlen=max_review_length)"
   ]
  },
  {
   "cell_type": "code",
   "execution_count": null,
   "metadata": {},
   "outputs": [],
   "source": [
    "embedding_vector_length = 32\n",
    "model = Sequential()\n",
    "model.add(\n",
    "    Embedding(top_word, embedding_vector_length,\n",
    "             input_length=max_review_length)\n",
    ")\n",
    "model.add(Dropout(0.2))\n",
    "model.add(LSTM(100))\n",
    "model.add(Dropout(0.2))\n",
    "model.add(\n",
    "    Dense(1,activation='sigmoid')\n",
    ")\n",
    "\n",
    "model.compile(\n",
    "    loss='binary_crossentropy',optimizer='adam',metrics=['accuracy']\n",
    ")\n",
    "model.fit(X_train,y_train,epochs=3, batch_size=64)\n",
    "\n",
    "scores = model.evaluate(X_test,y_test,verbose=0)\n",
    "print(f'Accuracy {scores[1]} ')\n"
   ]
  },
  {
   "cell_type": "code",
   "execution_count": null,
   "metadata": {},
   "outputs": [],
   "source": [
    "embedding_vector_length = 32\n",
    "model = Sequential()\n",
    "model.add(\n",
    "    Embedding(top_word, embedding_vector_length,\n",
    "             input_length=max_review_length)\n",
    ")\n",
    "model.add(\n",
    "    Conv1D(filters=32, kernel_size=3,padding='same',activation='relu')\n",
    ")\n",
    "model.add(\n",
    "    MaxPool1D(pool_size=2)\n",
    ")\n",
    "model.add(LSTM(100))\n",
    "model.add(Dropout(0.2))\n",
    "model.add(\n",
    "    Dense(1,activation='sigmoid')\n",
    ")\n",
    "\n",
    "model.compile(\n",
    "    loss='binary_crossentropy',optimizer='adam',metrics=['accuracy']\n",
    ")\n",
    "model.fit(X_train,y_train,epochs=3, batch_size=64)\n",
    "\n",
    "scores = model.evaluate(X_test,y_test,verbose=0)\n",
    "print(f'Accuracy {scores[1]} ')\n"
   ]
  }
 ],
 "metadata": {
  "kernelspec": {
   "display_name": "Python 3",
   "language": "python",
   "name": "python3"
  },
  "language_info": {
   "codemirror_mode": {
    "name": "ipython",
    "version": 3
   },
   "file_extension": ".py",
   "mimetype": "text/x-python",
   "name": "python",
   "nbconvert_exporter": "python",
   "pygments_lexer": "ipython3",
   "version": "3.7.3"
  }
 },
 "nbformat": 4,
 "nbformat_minor": 2
}
