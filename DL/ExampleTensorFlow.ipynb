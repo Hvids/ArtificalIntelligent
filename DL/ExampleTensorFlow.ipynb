{
 "cells": [
  {
   "cell_type": "code",
   "execution_count": 3,
   "metadata": {},
   "outputs": [
    {
     "name": "stderr",
     "output_type": "stream",
     "text": [
      "/home/hvidsmen/anaconda3/lib/python3.7/site-packages/dask/config.py:168: YAMLLoadWarning: calling yaml.load() without Loader=... is deprecated, as the default Loader is unsafe. Please read https://msg.pyyaml.org/load for full details.\n",
      "  data = yaml.load(f.read()) or {}\n"
     ]
    }
   ],
   "source": [
    "import tensorflow as tf\n",
    "from tensorflow.examples.tutorials.mnist import input_data"
   ]
  },
  {
   "cell_type": "markdown",
   "metadata": {},
   "source": [
    "Simple Newtwork\n"
   ]
  },
  {
   "cell_type": "code",
   "execution_count": 63,
   "metadata": {},
   "outputs": [
    {
     "name": "stdout",
     "output_type": "stream",
     "text": [
      "Extracting MNIST_data/train-images-idx3-ubyte.gz\n",
      "Extracting MNIST_data/train-labels-idx1-ubyte.gz\n",
      "Extracting MNIST_data/t10k-images-idx3-ubyte.gz\n",
      "Extracting MNIST_data/t10k-labels-idx1-ubyte.gz\n",
      "Accuracy 0.9642000198364258\n"
     ]
    }
   ],
   "source": [
    "mnist = input_data.read_data_sets('MNIST_data/', one_hot=True)\n",
    "x= tf.placeholder(tf.float32,[None,784])\n",
    "\n",
    "W_relu = tf.Variable(tf.truncated_normal([784,100],stddev=0.1))\n",
    "b_relu = tf.Variable(tf.truncated_normal([100],stddev=0.1))\n",
    "h = tf.nn.relu(tf.matmul(x,W_relu) + b_relu)\n",
    "\n",
    "keep_probability = tf.placeholder(tf.float32)\n",
    "h_drop = tf.nn.dropout(h,keep_probability)\n",
    "\n",
    "W = tf.Variable(tf.zeros([100,10]))\n",
    "b = tf.Variable(tf.zeros([10]))\n",
    "\n",
    "y = tf.nn.softmax(tf.matmul(h_drop,W) + b)\n",
    "\n",
    "y_ = tf.placeholder(tf.float32, [None,10])\n",
    "\n",
    "logit = tf.matmul(h_drop, W)+b\n",
    "\n",
    "cross_entropy = tf.reduce_mean(tf.nn.softmax_cross_entropy_with_logits(logits=logit,labels=y_))\n",
    "train_step = tf.train.GradientDescentOptimizer(0.5).minimize(cross_entropy)\n",
    "init = tf.global_variables_initializer()\n",
    "with tf.Session() as sess:\n",
    "    sess.run(init)\n",
    "    epoch = 2000\n",
    "    for _ in range(epoch):\n",
    "        batch_size = 100\n",
    "        batch_xs, batch_ys = mnist.train.next_batch(batch_size)\n",
    "        sess.run(train_step, feed_dict = {x:batch_xs,y_:batch_ys, keep_probability:0.5})\n",
    "    \n",
    "    correct_prediction = tf.equal(tf.argmax(y,1), tf.argmax(y_,1))\n",
    "    accuracy = tf.reduce_mean(tf.cast(correct_prediction, tf.float32))\n",
    "    a = sess.run(accuracy,feed_dict={x:mnist.test.images,y_:mnist.test.labels, keep_probability:1.})\n",
    "    print(f'Accuracy {a}')"
   ]
  },
  {
   "cell_type": "markdown",
   "metadata": {},
   "source": [
    "Normalaze W"
   ]
  },
  {
   "cell_type": "code",
   "execution_count": 42,
   "metadata": {},
   "outputs": [
    {
     "name": "stdout",
     "output_type": "stream",
     "text": [
      "Extracting MNIST_data/train-images-idx3-ubyte.gz\n",
      "Extracting MNIST_data/train-labels-idx1-ubyte.gz\n",
      "Extracting MNIST_data/t10k-images-idx3-ubyte.gz\n",
      "Extracting MNIST_data/t10k-labels-idx1-ubyte.gz\n"
     ]
    }
   ],
   "source": []
  },
  {
   "cell_type": "code",
   "execution_count": 73,
   "metadata": {},
   "outputs": [
    {
     "name": "stdout",
     "output_type": "stream",
     "text": [
      "Extracting MNIST_data/train-images-idx3-ubyte.gz\n",
      "Extracting MNIST_data/train-labels-idx1-ubyte.gz\n",
      "Extracting MNIST_data/t10k-images-idx3-ubyte.gz\n",
      "Extracting MNIST_data/t10k-labels-idx1-ubyte.gz\n",
      "Accuracy [0] = 0.13369999825954437\n",
      "Accuracy [100] = 0.9110999703407288\n",
      "Accuracy [200] = 0.9229999780654907\n",
      "Accuracy [300] = 0.9239000082015991\n",
      "Accuracy [400] = 0.9312000274658203\n",
      "Accuracy [500] = 0.9251999855041504\n",
      "Accuracy [600] = 0.9272000193595886\n",
      "Accuracy [700] = 0.9243999719619751\n",
      "Accuracy [800] = 0.932200014591217\n",
      "Accuracy [900] = 0.9226999878883362\n",
      "Accuracy = 0.9210000038146973\n"
     ]
    }
   ],
   "source": [
    "mnist = input_data.read_data_sets('MNIST_data/', one_hot=True)\n",
    "def fullyconnected_layer(tensor,input_size,out_size):\n",
    "    W = tf.Variable(tf.truncated_normal([input_size,out_size],stddev=0.1))\n",
    "    b = tf.Variable(tf.truncated_normal([out_size],stddev=0.1))\n",
    "    return tf.nn.tanh(tf.matmul(tensor, W) + b)\n",
    "\n",
    "def logit_layer(tensor, input_size, out_size):\n",
    "    W = tf.Variable(tf.truncated_normal([input_size,out_size],stddev=0.1))\n",
    "    b = tf.Variable(tf.truncated_normal([out_size],stddev=0.1))\n",
    "    return tf.nn.softmax(tf.matmul(tensor, W) + b)\n",
    "\n",
    "def batchnorm_layer(tensor, size):\n",
    "    batch_mean, batch_var = tf.nn.moments(tensor,[0])\n",
    "    beta = tf.Variable(tf.zeros([size]))\n",
    "    scale = tf.Variable(tf.zeros([size]))\n",
    "    return tf.nn.batch_normalization(tensor,batch_mean,batch_var,beta,scale,0.001)\n",
    "\n",
    "x = tf.placeholder(tf.float32,[None,784])\n",
    "h1 = fullyconnected_layer(x,784,100)\n",
    "h1_bn = batchnorm_layer(h1,100)\n",
    "h2 = fullyconnected_layer(h1_bn,100,100)\n",
    "y_logit = logit_layer(h2,100,10)\n",
    "\n",
    "y = tf.placeholder(tf.float32,[None,10])\n",
    "\n",
    "\n",
    "loss = tf.reduce_mean(tf.nn.sigmoid_cross_entropy_with_logits(logits = y_logit,labels=y))\n",
    "train_op = tf.train.AdamOptimizer(0.01).minimize(loss)\n",
    "\n",
    "keep_probability = tf.placeholder(tf.float32)\n",
    "\n",
    "correct_prediction = tf.equal(tf.argmax(y,1), tf.argmax(y_logit,1))\n",
    "accuracy = tf.reduce_mean(tf.cast(correct_prediction, tf.float32))\n",
    "    \n",
    "\n",
    "init = tf.global_variables_initializer()\n",
    "\n",
    "steps = 1000\n",
    "batch_size = 100\n",
    "with tf.Session() as sess:\n",
    "    sess.run(init)\n",
    "    for i in range(steps):\n",
    "        batch_x , batch_y = mnist.train.next_batch(batch_size)\n",
    "        sess.run(train_op,feed_dict={x:batch_x,y:batch_y})\n",
    "        if  i%100 == 0:\n",
    "            a = sess.run(accuracy,feed_dict={x:mnist.test.images,y:mnist.test.labels, keep_probability:1.})\n",
    "            print(f'Accuracy [{i}] = {a}')\n",
    "    a = sess.run(accuracy,feed_dict={x:mnist.test.images,y:mnist.test.labels})\n",
    "    print(f'Accuracy = {a}')"
   ]
  },
  {
   "cell_type": "markdown",
   "metadata": {},
   "source": [
    "Светочные сети"
   ]
  },
  {
   "cell_type": "code",
   "execution_count": 7,
   "metadata": {},
   "outputs": [],
   "source": [
    "import numpy as np"
   ]
  },
  {
   "cell_type": "code",
   "execution_count": 24,
   "metadata": {},
   "outputs": [
    {
     "name": "stdout",
     "output_type": "stream",
     "text": [
      "WARNING:tensorflow:From <ipython-input-24-8fb3731fc284>:1: read_data_sets (from tensorflow.contrib.learn.python.learn.datasets.mnist) is deprecated and will be removed in a future version.\n",
      "Instructions for updating:\n",
      "Please use alternatives such as official/mnist/dataset.py from tensorflow/models.\n",
      "WARNING:tensorflow:From /home/hvidsmen/anaconda3/lib/python3.7/site-packages/tensorflow/contrib/learn/python/learn/datasets/mnist.py:260: maybe_download (from tensorflow.contrib.learn.python.learn.datasets.base) is deprecated and will be removed in a future version.\n",
      "Instructions for updating:\n",
      "Please write your own downloading logic.\n",
      "WARNING:tensorflow:From /home/hvidsmen/anaconda3/lib/python3.7/site-packages/tensorflow/contrib/learn/python/learn/datasets/mnist.py:262: extract_images (from tensorflow.contrib.learn.python.learn.datasets.mnist) is deprecated and will be removed in a future version.\n",
      "Instructions for updating:\n",
      "Please use tf.data to implement this functionality.\n",
      "Extracting MNIST_data/train-images-idx3-ubyte.gz\n",
      "WARNING:tensorflow:From /home/hvidsmen/anaconda3/lib/python3.7/site-packages/tensorflow/contrib/learn/python/learn/datasets/mnist.py:267: extract_labels (from tensorflow.contrib.learn.python.learn.datasets.mnist) is deprecated and will be removed in a future version.\n",
      "Instructions for updating:\n",
      "Please use tf.data to implement this functionality.\n",
      "Extracting MNIST_data/train-labels-idx1-ubyte.gz\n",
      "WARNING:tensorflow:From /home/hvidsmen/anaconda3/lib/python3.7/site-packages/tensorflow/contrib/learn/python/learn/datasets/mnist.py:110: dense_to_one_hot (from tensorflow.contrib.learn.python.learn.datasets.mnist) is deprecated and will be removed in a future version.\n",
      "Instructions for updating:\n",
      "Please use tf.one_hot on tensors.\n",
      "Extracting MNIST_data/t10k-images-idx3-ubyte.gz\n",
      "Extracting MNIST_data/t10k-labels-idx1-ubyte.gz\n",
      "WARNING:tensorflow:From /home/hvidsmen/anaconda3/lib/python3.7/site-packages/tensorflow/contrib/learn/python/learn/datasets/mnist.py:290: DataSet.__init__ (from tensorflow.contrib.learn.python.learn.datasets.mnist) is deprecated and will be removed in a future version.\n",
      "Instructions for updating:\n",
      "Please use alternatives such as official/mnist/dataset.py from tensorflow/models.\n",
      "WARNING:tensorflow:From <ipython-input-24-8fb3731fc284>:35: calling dropout (from tensorflow.python.ops.nn_ops) with keep_prob is deprecated and will be removed in a future version.\n",
      "Instructions for updating:\n",
      "Please use `rate` instead of `keep_prob`. Rate should be set to `rate = 1 - keep_prob`.\n",
      "WARNING:tensorflow:From <ipython-input-24-8fb3731fc284>:42: softmax_cross_entropy_with_logits (from tensorflow.python.ops.nn_ops) is deprecated and will be removed in a future version.\n",
      "Instructions for updating:\n",
      "\n",
      "Future major versions of TensorFlow will allow gradients to flow\n",
      "into the labels input on backprop by default.\n",
      "\n",
      "See `tf.nn.softmax_cross_entropy_with_logits_v2`.\n",
      "\n",
      "Accuracy [0] = 0.12880000472068787\n",
      "Accuracy [1] = 0.26420000195503235\n",
      "Accuracy [2] = 0.21379999816417694\n",
      "Accuracy [3] = 0.32839998602867126\n",
      "Accuracy [4] = 0.23880000412464142\n",
      "Accuracy = 0.23880000412464142\n"
     ]
    }
   ],
   "source": [
    "mnist = input_data.read_data_sets('MNIST_data/', one_hot=True)\n",
    "x = tf.placeholder(tf.float32,[None,784])\n",
    "y = tf.placeholder(tf.float32,[None,10])\n",
    "x_image = tf.reshape(x,[-1,28,28,1])\n",
    "W_conv_1 = tf.Variable(tf.truncated_normal([5,5,1,32],stddev=0.1))\n",
    "b_conv_1 = tf.Variable(tf.constant(0.1,shape=[32]))\n",
    "conv_1 = tf.nn.conv2d(x_image,\n",
    "                      W_conv_1,\n",
    "                      strides = [1,1,1,1],\n",
    "                      padding=\"SAME\")+b_conv_1\n",
    "h_conv_1 = tf.nn.relu(conv_1)\n",
    "h_pool_1 = tf.nn.max_pool(h_conv_1,\n",
    "                         ksize=[1,2,2,1],\n",
    "                          strides=[1,2,2,1],\n",
    "                          padding='SAME')\n",
    "W_conv_2 = tf.Variable(tf.truncated_normal([5,5,32,64],stddev=0.1))\n",
    "b_conv_2 = tf.Variable(tf.constant(0.1,shape=[64]))\n",
    "conv_2 = tf.nn.conv2d(h_pool_1,\n",
    "                      W_conv_2,\n",
    "                      strides=[1,1,1,1],\n",
    "                      padding=\"SAME\") + b_conv_2 \n",
    "h_conv_2 = tf.nn.relu(conv_2)\n",
    "h_pool_2 = tf.nn.max_pool(h_conv_2,\n",
    "                          ksize=[1,2,2,1],\n",
    "                          strides=[1,2,2,1],\n",
    "                          padding='SAME')\n",
    "h_pool_2_flat= tf.reshape(h_pool_2,[-1,7*7*64])\n",
    "\n",
    "W_fc_1 =tf.Variable(tf.truncated_normal([7*7*64,1024],stddev=0.1))\n",
    "b_fc_1 = tf.Variable(tf.constant(0.1,shape=[1024]))\n",
    "h_fc_1 = tf.nn.relu(tf.matmul(h_pool_2_flat,W_fc_1) + b_fc_1)\n",
    "\n",
    "keep_probability = tf.placeholder(tf.float32)\n",
    "\n",
    "h_fc_1_drop = tf.nn.dropout(h_fc_1,keep_probability)\n",
    "\n",
    "W_fc_2 = tf.Variable(tf.truncated_normal([1024,10],stddev=0.1))\n",
    "b_fc_2 = tf.Variable(tf.constant(0.1,shape=[10]))\n",
    "logit_conv = tf.matmul(h_fc_1_drop, W_fc_2)+b_fc_2\n",
    "y_conv = tf.nn.softmax(logit_conv)\n",
    "\n",
    "cross_entropy = tf.reduce_mean(tf.nn.softmax_cross_entropy_with_logits(logits=logit_conv,labels=y))\n",
    "\n",
    "train_step = tf.train.AdamOptimizer().minimize(cross_entropy)\n",
    "\n",
    "correct_prediction = tf.equal(tf.argmax(y,1), tf.argmax(y_conv,1))\n",
    "accuracy = tf.reduce_mean(tf.cast(correct_prediction, tf.float32))\n",
    "    \n",
    "\n",
    "init = tf.global_variables_initializer()\n",
    "\n",
    "steps = 5\n",
    "batch_size = 100\n",
    "with tf.Session() as sess:\n",
    "    sess.run(init)\n",
    "    for i in range(steps):\n",
    "        batch_x , batch_y = mnist.train.next_batch(batch_size)\n",
    "        sess.run(train_step,feed_dict={x:batch_x,y:batch_y, keep_probability:0.5})\n",
    "        if  i%1 == 0:\n",
    "            a = sess.run(accuracy,feed_dict={x:mnist.test.images,y:mnist.test.labels, keep_probability:1.})\n",
    "            print(f'Accuracy [{i}] = {a}')\n",
    "    a = sess.run(accuracy,feed_dict={x:mnist.test.images,y:mnist.test.labels,keep_probability:1.})\n",
    "    print(f'Accuracy = {a}')\n"
   ]
  },
  {
   "cell_type": "markdown",
   "metadata": {},
   "source": [
    "Keras Example"
   ]
  },
  {
   "cell_type": "code",
   "execution_count": 9,
   "metadata": {},
   "outputs": [],
   "source": [
    "import keras\n",
    "from keras.datasets import mnist\n",
    "from keras.models import Sequential\n",
    "from keras.layers import Dense,Dropout, Activation, Flatten\n",
    "from keras.layers import Convolution2D, MaxPooling2D\n",
    "from keras.utils import np_utils"
   ]
  },
  {
   "cell_type": "code",
   "execution_count": 15,
   "metadata": {},
   "outputs": [],
   "source": [
    "(X_train, y_train), (X_test, y_test) = mnist.load_data()\n",
    "batch_size, img_rows,img_cols = 64,28,28\n",
    "X_train = X_train.reshape(X_train.shape[0],img_rows,img_cols,1)\n",
    "X_test = X_test.reshape(X_test.shape[0],img_rows,img_cols,1)\n",
    "input_shape = (img_rows,img_cols,1)"
   ]
  },
  {
   "cell_type": "code",
   "execution_count": 16,
   "metadata": {},
   "outputs": [],
   "source": [
    "X_train = X_train.astype('float32')\n",
    "X_test = X_test.astype('float32')\n",
    "X_train/=255\n",
    "X_test/=255"
   ]
  },
  {
   "cell_type": "code",
   "execution_count": 17,
   "metadata": {},
   "outputs": [],
   "source": [
    "y_train = np_utils.to_categorical(y_train,10)\n",
    "y_test = np_utils.to_categorical(y_test,10)\n"
   ]
  },
  {
   "cell_type": "code",
   "execution_count": 23,
   "metadata": {},
   "outputs": [
    {
     "name": "stderr",
     "output_type": "stream",
     "text": [
      "/home/hvidsmen/anaconda3/lib/python3.7/site-packages/ipykernel_launcher.py:3: UserWarning: Update your `Conv2D` call to the Keras 2 API: `Conv2D(32, (5, 5), input_shape=(28, 28, 1..., activation=\"relu\", padding=\"same\")`\n",
      "  This is separate from the ipykernel package so we can avoid doing imports until\n",
      "/home/hvidsmen/anaconda3/lib/python3.7/site-packages/ipykernel_launcher.py:4: UserWarning: Update your `MaxPooling2D` call to the Keras 2 API: `MaxPooling2D(pool_size=(2, 2), strides=(2, 2), padding=\"same\")`\n",
      "  after removing the cwd from sys.path.\n",
      "/home/hvidsmen/anaconda3/lib/python3.7/site-packages/ipykernel_launcher.py:5: UserWarning: Update your `Conv2D` call to the Keras 2 API: `Conv2D(64, (5, 5), input_shape=(28, 28, 1..., activation=\"relu\", padding=\"same\")`\n",
      "  \"\"\"\n",
      "/home/hvidsmen/anaconda3/lib/python3.7/site-packages/ipykernel_launcher.py:6: UserWarning: Update your `MaxPooling2D` call to the Keras 2 API: `MaxPooling2D(pool_size=(2, 2), strides=(2, 2), padding=\"same\")`\n",
      "  \n",
      "/home/hvidsmen/anaconda3/lib/python3.7/site-packages/ipykernel_launcher.py:18: UserWarning: The `nb_epoch` argument in `fit` has been renamed `epochs`.\n"
     ]
    },
    {
     "name": "stdout",
     "output_type": "stream",
     "text": [
      "Train on 60000 samples, validate on 10000 samples\n",
      "Epoch 1/5\n",
      "60000/60000 [==============================] - 324s 5ms/step - loss: 0.0975 - accuracy: 0.9697 - val_loss: 0.0329 - val_accuracy: 0.9888\n",
      "Epoch 2/5\n",
      "60000/60000 [==============================] - 330s 6ms/step - loss: 0.0348 - accuracy: 0.9890 - val_loss: 0.0264 - val_accuracy: 0.9916\n",
      "Epoch 3/5\n",
      "60000/60000 [==============================] - 326s 5ms/step - loss: 0.0234 - accuracy: 0.9923 - val_loss: 0.0278 - val_accuracy: 0.9904\n",
      "Epoch 4/5\n",
      "60000/60000 [==============================] - 330s 5ms/step - loss: 0.0170 - accuracy: 0.9946 - val_loss: 0.0241 - val_accuracy: 0.9922\n",
      "Epoch 5/5\n",
      "60000/60000 [==============================] - 332s 6ms/step - loss: 0.0143 - accuracy: 0.9957 - val_loss: 0.0386 - val_accuracy: 0.9902\n",
      "Test score: 0.038598290950577936\n",
      "Test accuracy: 0.038598290950577936\n"
     ]
    }
   ],
   "source": [
    "model = Sequential()\n",
    "\n",
    "model.add(Convolution2D(32,5,5,border_mode=\"same\", input_shape=input_shape, activation='relu'))\n",
    "model.add(MaxPooling2D(pool_size=(2,2),strides=(2,2),border_mode='same'))\n",
    "model.add(Convolution2D(64,5,5,border_mode=\"same\", input_shape=input_shape, activation='relu'))\n",
    "model.add(MaxPooling2D(pool_size=(2,2),strides=(2,2),border_mode='same'))\n",
    "model.add(Flatten())\n",
    "model.add(Dense(1024,activation='relu'))\n",
    "model.add(Dense(10,activation='softmax'))\n",
    "\n",
    "model.compile(loss='categorical_crossentropy',\n",
    "              optimizer='adam',\n",
    "              metrics=['accuracy'],\n",
    "             )\n",
    "model.fit(X_train,y_train,\n",
    "          nb_epoch=5,\n",
    "          verbose=1,\n",
    "          validation_data=(X_test,y_test))\n",
    "score= model.evaluate(X_test,y_test,verbose=0)\n",
    "print(f'Test score: {score[0]}')\n",
    "print(f'Test accuracy: {score[0]}')"
   ]
  },
  {
   "cell_type": "code",
   "execution_count": null,
   "metadata": {},
   "outputs": [],
   "source": []
  }
 ],
 "metadata": {
  "kernelspec": {
   "display_name": "Python 3",
   "language": "python",
   "name": "python3"
  },
  "language_info": {
   "codemirror_mode": {
    "name": "ipython",
    "version": 3
   },
   "file_extension": ".py",
   "mimetype": "text/x-python",
   "name": "python",
   "nbconvert_exporter": "python",
   "pygments_lexer": "ipython3",
   "version": "3.7.3"
  }
 },
 "nbformat": 4,
 "nbformat_minor": 2
}
