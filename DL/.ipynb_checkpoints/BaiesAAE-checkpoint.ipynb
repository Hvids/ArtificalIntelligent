{
 "cells": [
  {
   "cell_type": "code",
   "execution_count": 1,
   "metadata": {},
   "outputs": [
    {
     "name": "stderr",
     "output_type": "stream",
     "text": [
      "/home/hvidsmen/anaconda3/lib/python3.7/site-packages/dask/config.py:168: YAMLLoadWarning: calling yaml.load() without Loader=... is deprecated, as the default Loader is unsafe. Please read https://msg.pyyaml.org/load for full details.\n",
      "  data = yaml.load(f.read()) or {}\n"
     ]
    }
   ],
   "source": [
    "import numpy as np\n",
    "import tensorflow as tf\n",
    "from tensorflow.examples.tutorials.mnist import input_data"
   ]
  },
  {
   "cell_type": "code",
   "execution_count": 2,
   "metadata": {},
   "outputs": [
    {
     "name": "stdout",
     "output_type": "stream",
     "text": [
      "WARNING:tensorflow:From <ipython-input-2-5acfdd319188>:1: read_data_sets (from tensorflow.contrib.learn.python.learn.datasets.mnist) is deprecated and will be removed in a future version.\n",
      "Instructions for updating:\n",
      "Please use alternatives such as official/mnist/dataset.py from tensorflow/models.\n",
      "WARNING:tensorflow:From /home/hvidsmen/anaconda3/lib/python3.7/site-packages/tensorflow/contrib/learn/python/learn/datasets/mnist.py:260: maybe_download (from tensorflow.contrib.learn.python.learn.datasets.base) is deprecated and will be removed in a future version.\n",
      "Instructions for updating:\n",
      "Please write your own downloading logic.\n",
      "WARNING:tensorflow:From /home/hvidsmen/anaconda3/lib/python3.7/site-packages/tensorflow/contrib/learn/python/learn/datasets/mnist.py:262: extract_images (from tensorflow.contrib.learn.python.learn.datasets.mnist) is deprecated and will be removed in a future version.\n",
      "Instructions for updating:\n",
      "Please use tf.data to implement this functionality.\n",
      "Extracting MNIST_data/train-images-idx3-ubyte.gz\n",
      "WARNING:tensorflow:From /home/hvidsmen/anaconda3/lib/python3.7/site-packages/tensorflow/contrib/learn/python/learn/datasets/mnist.py:267: extract_labels (from tensorflow.contrib.learn.python.learn.datasets.mnist) is deprecated and will be removed in a future version.\n",
      "Instructions for updating:\n",
      "Please use tf.data to implement this functionality.\n",
      "Extracting MNIST_data/train-labels-idx1-ubyte.gz\n",
      "WARNING:tensorflow:From /home/hvidsmen/anaconda3/lib/python3.7/site-packages/tensorflow/contrib/learn/python/learn/datasets/mnist.py:110: dense_to_one_hot (from tensorflow.contrib.learn.python.learn.datasets.mnist) is deprecated and will be removed in a future version.\n",
      "Instructions for updating:\n",
      "Please use tf.one_hot on tensors.\n",
      "Extracting MNIST_data/t10k-images-idx3-ubyte.gz\n",
      "Extracting MNIST_data/t10k-labels-idx1-ubyte.gz\n",
      "WARNING:tensorflow:From /home/hvidsmen/anaconda3/lib/python3.7/site-packages/tensorflow/contrib/learn/python/learn/datasets/mnist.py:290: DataSet.__init__ (from tensorflow.contrib.learn.python.learn.datasets.mnist) is deprecated and will be removed in a future version.\n",
      "Instructions for updating:\n",
      "Please use alternatives such as official/mnist/dataset.py from tensorflow/models.\n"
     ]
    }
   ],
   "source": [
    "mnist = input_data.read_data_sets(\"MNIST_data/\", one_hot=True)\n",
    "n_samples = mnist.train.num_examples"
   ]
  },
  {
   "cell_type": "code",
   "execution_count": 3,
   "metadata": {},
   "outputs": [],
   "source": [
    "def xavier_init(fan_in, fan_out, constant=1):\n",
    "    low = -constant*np.sqrt(6.0/(fan_in + fan_out))\n",
    "    high = constant*np.sqrt(6.0/(fan_in + fan_out))\n",
    "    return tf.random_uniform((fan_in, fan_out),minval=low, maxval=high,dtype=tf.float32)"
   ]
  },
  {
   "cell_type": "code",
   "execution_count": 4,
   "metadata": {},
   "outputs": [],
   "source": [
    "w, n_input, n_z = {}, 784, 20\n",
    "n_hidden_recog_1, n_hidden_recog_2 = 500, 500\n",
    "n_hidden_gener_1, n_hidden_gener_2 = 500, 500\n",
    "w['w_recog'] = {\n",
    "    'h1': tf.Variable(xavier_init(n_input, n_hidden_recog_1)),\n",
    "    'h2': tf.Variable(xavier_init(n_hidden_recog_1, n_hidden_recog_2)),\n",
    "    'out_mean': tf.Variable(xavier_init(n_hidden_recog_2, n_z)),\n",
    "    'out_log_sigma': tf.Variable(xavier_init(n_hidden_recog_2, n_z))}\n",
    "w['b_recog'] = {\n",
    "    'b1': tf.Variable(tf.zeros([n_hidden_recog_1], dtype=tf.float32)),\n",
    "    'b2': tf.Variable(tf.zeros([n_hidden_recog_2], dtype=tf.float32)),\n",
    "    'out_mean': tf.Variable(tf.zeros([n_z], dtype=tf.float32)),\n",
    "    'out_log_sigma': tf.Variable(tf.zeros([n_z], dtype=tf.float32))}\n",
    "w['w_gener'] = {\n",
    "    'h1': tf.Variable(xavier_init(n_z, n_hidden_gener_1)),\n",
    "    'h2': tf.Variable(xavier_init(n_hidden_gener_1, n_hidden_gener_2)),\n",
    "    'out_mean': tf.Variable(xavier_init(n_hidden_gener_2, n_input)),\n",
    "    'out_log_sigma': tf.Variable(xavier_init(n_hidden_gener_2, n_input))}\n",
    "w['b_gener'] = {\n",
    "    'b1': tf.Variable(tf.zeros([n_hidden_gener_1], dtype=tf.float32)),\n",
    "    'b2': tf.Variable(tf.zeros([n_hidden_gener_2], dtype=tf.float32)),\n",
    "    'out_mean': tf.Variable(tf.zeros([n_input], dtype=tf.float32)),\n",
    "    'out_log_sigma': tf.Variable(tf.zeros([n_input], dtype=tf.float32))}"
   ]
  },
  {
   "cell_type": "code",
   "execution_count": 5,
   "metadata": {},
   "outputs": [],
   "source": [
    "l_rate=0.001\n",
    "batch_size=100\n",
    "x = tf.placeholder(tf.float32, [None, n_input])"
   ]
  },
  {
   "cell_type": "code",
   "execution_count": 6,
   "metadata": {},
   "outputs": [],
   "source": [
    "enc_layer_1 = tf.nn.softplus(tf.add(tf.matmul(x, w[\"w_recog\"]['h1']), w[\"b_recog\"]['b1']))\n",
    "enc_layer_2 = tf.nn.softplus(tf.add(tf.matmul(enc_layer_1, w[\"w_recog\"]['h2']), w[\"b_recog\"]['b2']))\n",
    "z_mean = tf.add( tf.matmul(enc_layer_2, w[\"w_recog\"]['out_mean']),w[\"b_recog\"]['out_mean'])\n",
    "z_log_sigma_sq = tf.add( tf.matmul(enc_layer_2, w[\"w_recog\"]['out_log_sigma']), w[\"b_recog\"]['out_log_sigma'])"
   ]
  },
  {
   "cell_type": "code",
   "execution_count": 10,
   "metadata": {},
   "outputs": [],
   "source": [
    "eps = tf.random_normal((batch_size, n_z), 0, 1, dtype=tf.float32)\n",
    "z = tf.add(z_mean, tf.multiply(tf.sqrt(tf.exp(z_log_sigma_sq)), eps))"
   ]
  },
  {
   "cell_type": "code",
   "execution_count": 11,
   "metadata": {},
   "outputs": [],
   "source": [
    "dec_layer_1 = tf.nn.softplus(tf.add(tf.matmul(z, w[\"w_gener\"]['h1']), w[\"b_gener\"]['b1']))\n",
    "dec_layer_2 = tf.nn.softplus(tf.add(tf.matmul(dec_layer_1, w[\"w_gener\"]['h2']), w[\"b_gener\"]['b2']))\n",
    "x_reconstr_mean = tf.nn.sigmoid(tf.add(tf.matmul(dec_layer_2, w[\"w_gener\"]['out_mean']),w[\"b_gener\"]['out_mean']))"
   ]
  },
  {
   "cell_type": "code",
   "execution_count": 12,
   "metadata": {},
   "outputs": [],
   "source": [
    "reconstr_loss = -tf.reduce_sum(x * tf.log(1e-10 + x_reconstr_mean) +(1-x) * tf.log(1e-10 + 1 - x_reconstr_mean), 1)"
   ]
  },
  {
   "cell_type": "code",
   "execution_count": 13,
   "metadata": {},
   "outputs": [],
   "source": [
    "latent_loss = -0.5 * tf.reduce_sum(1 + z_log_sigma_sq- tf.square(z_mean) - tf.exp(z_log_sigma_sq), 1)\n",
    "cost = tf.reduce_mean(reconstr_loss + latent_loss)"
   ]
  },
  {
   "cell_type": "code",
   "execution_count": 14,
   "metadata": {},
   "outputs": [],
   "source": [
    "optimizer = tf.train.AdamOptimizer(learning_rate=l_rate).minimize(cost)"
   ]
  },
  {
   "cell_type": "code",
   "execution_count": null,
   "metadata": {},
   "outputs": [
    {
     "name": "stdout",
     "output_type": "stream",
     "text": [
      "Epoch: 0001\tcost: 174.998179654\n",
      "Epoch: 0006\tcost: 109.045565310\n",
      "Epoch: 0011\tcost: 103.693967119\n",
      "Epoch: 0016\tcost: 101.497641685\n",
      "Epoch: 0021\tcost: 100.103805639\n",
      "Epoch: 0026\tcost: 99.094670923\n",
      "Epoch: 0031\tcost: 98.325713293\n",
      "Epoch: 0036\tcost: 97.712156539\n",
      "Epoch: 0041\tcost: 97.233277865\n",
      "Epoch: 0046\tcost: 96.761055173\n",
      "Epoch: 0051\tcost: 96.364287942\n",
      "Epoch: 0056\tcost: 96.009761450\n",
      "Epoch: 0061\tcost: 95.751621760\n",
      "Epoch: 0066\tcost: 95.464467385\n",
      "Epoch: 0071\tcost: 95.223588382\n",
      "Epoch: 0076\tcost: 94.988514404\n",
      "Epoch: 0081\tcost: 94.831412534\n",
      "Epoch: 0086\tcost: 94.604037725\n",
      "Epoch: 0091\tcost: 94.431867384\n",
      "Epoch: 0096\tcost: 94.249934096\n",
      "Epoch: 0101\tcost: 94.117874797\n",
      "Epoch: 0106\tcost: 94.009681591\n"
     ]
    }
   ],
   "source": [
    "def train(sess, batch_size=100, training_epochs=10, display_step=5):\n",
    "    for epoch in range(training_epochs):\n",
    "        avg_cost = 0.\n",
    "        total_batch = int(n_samples / batch_size)\n",
    "        # Цикл по мини-батчам\n",
    "        for i in range(total_batch):\n",
    "            xs, _ = mnist.train.next_batch(batch_size)\n",
    "            # Обучаем на текущем мини-батче\n",
    "            _, c = sess.run((optimizer, cost), feed_dict={x: xs})\n",
    "            # Compute average loss\n",
    "            avg_cost += c / n_samples * batch_size\n",
    "            # Каждые display_step шагов выводим текущую функцию потерь\n",
    "        if epoch % display_step == 0:\n",
    "            print(\"Epoch: %04d\\tcost: %.9f\" % (epoch+1, avg_cost))\n",
    "\n",
    "init = tf.global_variables_initializer()\n",
    "sess = tf.InteractiveSession()\n",
    "sess.run(init)\n",
    "train(sess, training_epochs=200, batch_size=batch_size)"
   ]
  },
  {
   "cell_type": "code",
   "execution_count": null,
   "metadata": {},
   "outputs": [],
   "source": []
  }
 ],
 "metadata": {
  "kernelspec": {
   "display_name": "Python 3",
   "language": "python",
   "name": "python3"
  },
  "language_info": {
   "codemirror_mode": {
    "name": "ipython",
    "version": 3
   },
   "file_extension": ".py",
   "mimetype": "text/x-python",
   "name": "python",
   "nbconvert_exporter": "python",
   "pygments_lexer": "ipython3",
   "version": "3.7.3"
  }
 },
 "nbformat": 4,
 "nbformat_minor": 2
}
