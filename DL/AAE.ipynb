{
 "cells": [
  {
   "cell_type": "code",
   "execution_count": 1,
   "metadata": {},
   "outputs": [
    {
     "name": "stderr",
     "output_type": "stream",
     "text": [
      "/home/hvidsmen/anaconda3/lib/python3.7/site-packages/dask/config.py:168: YAMLLoadWarning: calling yaml.load() without Loader=... is deprecated, as the default Loader is unsafe. Please read https://msg.pyyaml.org/load for full details.\n",
      "  data = yaml.load(f.read()) or {}\n"
     ]
    }
   ],
   "source": [
    "import numpy as np, tensorflow as tf\n",
    "from tensorflow.examples.tutorials.mnist import input_data\n"
   ]
  },
  {
   "cell_type": "code",
   "execution_count": 3,
   "metadata": {},
   "outputs": [
    {
     "name": "stdout",
     "output_type": "stream",
     "text": [
      "Extracting MNIST_data/train-images-idx3-ubyte.gz\n",
      "Extracting MNIST_data/train-labels-idx1-ubyte.gz\n",
      "Extracting MNIST_data/t10k-images-idx3-ubyte.gz\n",
      "Extracting MNIST_data/t10k-labels-idx1-ubyte.gz\n"
     ]
    }
   ],
   "source": [
    "mnist = input_data.read_data_sets(\"MNIST_data/\", one_hot=True)"
   ]
  },
  {
   "cell_type": "code",
   "execution_count": 7,
   "metadata": {},
   "outputs": [],
   "source": [
    "def batch_gen(data, batch_n):\n",
    "    inds = range(data.shape[0])\n",
    "    np.random.shuffle(inds)\n",
    "    for i in range(data.shape[0] / batch_n):\n",
    "        ii = inds[i*batch_n:(i+1)*batch_n]\n",
    "        yield data[ii, :]"
   ]
  },
  {
   "cell_type": "code",
   "execution_count": 8,
   "metadata": {},
   "outputs": [],
   "source": [
    "def he_initializer(size):\n",
    "    return tf.random_normal_initializer(mean=0.0,\n",
    "                                        stddev=np.sqrt(1./size), seed=None, dtype=tf.float32)"
   ]
  },
  {
   "cell_type": "code",
   "execution_count": 9,
   "metadata": {},
   "outputs": [],
   "source": [
    "def linear_layer(tensor, input_size, out_size, init_fn=he_initializer,):\n",
    "    W = tf.get_variable('W', shape=[input_size, out_size],\n",
    "                        initializer=init_fn(input_size))\n",
    "    b = tf.get_variable('b', \n",
    "                        shape=[out_size],\n",
    "                        initializer=tf.constant_initializer(0.1))\n",
    "    return tf.add(tf.matmul(tensor, W), b)"
   ]
  },
  {
   "cell_type": "code",
   "execution_count": 10,
   "metadata": {},
   "outputs": [],
   "source": [
    "def sample_prior(loc=0., scale=1., size=(64, 10)):\n",
    "    return np.tanh(np.random.normal(loc=loc, scale=scale, size=size))"
   ]
  },
  {
   "cell_type": "code",
   "execution_count": 27,
   "metadata": {},
   "outputs": [],
   "source": [
    "class AAE(object):\n",
    "    def __init__(self,\n",
    "                 batch_size=64,\n",
    "                 input_space=28*28,\n",
    "                 latent_space=10, \n",
    "                 p=3., \n",
    "                 middle_layers=None,\n",
    "                 activation_fn=tf.nn.tanh,\n",
    "                 learning_rate=0.001,\n",
    "                 l2_lambda = 0.001,\n",
    "                 initializer_fn=he_initializer):\n",
    "        self.batch_size = batch_size\n",
    "        self.input_space = input_space\n",
    "        self.latent_space = latent_space\n",
    "        self.p = p\n",
    "        self.middle_layers = [1024, 1024]\n",
    "        self.activation_fn = activation_fn\n",
    "        self.learning_rate = learning_rate\n",
    "        self.initializer_fn = initializer_fn\n",
    "        tf.reset_default_graph()\n",
    "        self.input_x = tf.placeholder(tf.float32, [None, input_space])\n",
    "        self.z_tensor = tf.placeholder(tf.float32, [None, latent_space])\n",
    "        with tf.variable_scope(\"encoder\"):\n",
    "            self._encoder()\n",
    "        self.encoded = self.encoder_layers[-1]\n",
    "        with tf.variable_scope(\"decoder\"):\n",
    "            self.decoder_layers = self._decoder(self.encoded)\n",
    "            self.decoded = self.decoder_layers[-1]\n",
    "            tf.get_variable_scope().reuse_variables()\n",
    "            self.generator_layers = self._decoder(self.z_tensor)\n",
    "            self.generated = tf.nn.sigmoid(self.generator_layers[-1], name=\"generated\")\n",
    "        sizes = [64, 64, 1]\n",
    "        with tf.variable_scope(\"discriminator\"):\n",
    "            self.disc_layers_neg = self._discriminator(self.encoded, sizes)\n",
    "            self.disc_neg = self.disc_layers_neg[-1]\n",
    "            tf.get_variable_scope().reuse_variables()\n",
    "            self.disc_layers_pos = self._discriminator(self.z_tensor, sizes)\n",
    "            self.disc_pos = self.disc_layers_pos[-1]\n",
    "        self.pos_loss = tf.nn.relu(self.disc_pos) - self.disc_pos + tf.log(1.0 + tf.exp(-tf.abs(self.disc_pos)))\n",
    "        self.neg_loss = tf.nn.relu(self.disc_neg) + tf.log(1.0 + tf.exp(-tf.abs(self.disc_neg)))\n",
    "        self.disc_loss = tf.reduce_mean(tf.add(self.pos_loss, self.neg_loss))\n",
    "        self.enc_loss = tf.reduce_mean(tf.subtract(self.neg_loss, self.disc_neg))\n",
    "        batch_logloss = tf.reduce_sum(tf.nn.sigmoid_cross_entropy_with_logits(\n",
    "        logits=self.decoded, labels=self.input_x), 1)\n",
    "        self.ae_loss = tf.reduce_mean(batch_logloss)\n",
    "        disc_ws = tf.get_collection(tf.GraphKeys.GLOBAL_VARIABLES, scope='discriminator')\n",
    "        ae_ws = tf.get_collection(tf.GraphKeys.GLOBAL_VARIABLES, scope='encoder') + tf.get_collection(tf.GraphKeys.GLOBAL_VARIABLES, scope='decoder')\n",
    "        self.l2_loss = tf.multiply(tf.reduce_sum([tf.nn.l2_loss(ws) for ws in ae_ws]),\n",
    "        l2_lambda)\n",
    "        self.gen_loss = tf.add(tf.add(self.enc_loss, self.ae_loss), self.l2_loss)\n",
    "        with tf.variable_scope('optimizers'):\n",
    "            self.train_discriminator = tf.train.RMSPropOptimizer(self.learning_rate).minimize(self.disc_loss, var_list=disc_ws)\n",
    "            self.train_generator = tf.train.RMSPropOptimizer(self.learning_rate).minimize(self.gen_loss, var_list=ae_ws)\n",
    "        self.sess = tf.Session()\n",
    "        init = tf.global_variables_initializer()\n",
    "        self.sess.run(init)\n",
    "    \n",
    "    def _encoder(self):\n",
    "        sizes = [self.input_space] + self.middle_layers + [self.latent_space]\n",
    "        self.encoder_layers = [self.input_x]\n",
    "        for i in range(len(sizes) - 1):\n",
    "            with tf.variable_scope('layer-%s' % i):\n",
    "                linear = linear_layer(self.encoder_layers[-1], sizes[i], sizes[i+1])\n",
    "                self.encoder_layers.append(self.activation_fn(linear))\n",
    "    def _decoder(self, tensor):\n",
    "        sizes = [self.latent_space] + self.middle_layers[::-1]\n",
    "        decoder_layers = [tensor]\n",
    "        for i in range(len(sizes) - 1):\n",
    "            with tf.variable_scope('layer-%s' % i):\n",
    "                linear = linear_layer(decoder_layers[-1], sizes[i], sizes[i+1])\n",
    "                decoder_layers.append(self.activation_fn(linear))\n",
    "        with tf.variable_scope('output-layer'):\n",
    "            linear = linear_layer(decoder_layers[-1], sizes[-1], self.input_space)\n",
    "            decoder_layers.append(linear)\n",
    "        return decoder_layers\n",
    "    \n",
    "    def _discriminator(self, tensor, sizes):\n",
    "        sizes = [self.latent_space] + sizes + [1]\n",
    "        disc_layers = [tensor]\n",
    "        for i in range(len(sizes) - 1):\n",
    "            with tf.variable_scope('layer-%s' % i):\n",
    "                linear = linear_layer(disc_layers[-1], sizes[i], sizes[i+1])\n",
    "                disc_layers.append(self.activation_fn(linear))\n",
    "        with tf.variable_scope('class-layer'):\n",
    "            linear = linear_layer(disc_layers[-1], sizes[-1], self.input_space)\n",
    "            disc_layers.append(linear)\n",
    "        return disc_layers\n",
    "    def train(self):\n",
    "        sess = self.sess\n",
    "        test_x = mnist.test.images\n",
    "        gloss = 0.69\n",
    "        for i in range(1000):\n",
    "            batch_x, _ = mnist.train.next_batch(self.batch_size)\n",
    "            if gloss > np.log(self.p):\n",
    "                gloss, _ = sess.run([self.enc_loss, self.train_generator],feed_dict={self.input_x: batch_x})\n",
    "            else:\n",
    "                batch_z = sample_prior(scale=1.0, size=(len(batch_x), self.latent_space))\n",
    "                gloss, _ = sess.run([self.enc_loss, self.train_discriminator],feed_dict={self.input_x: batch_x, self.z_tensor: batch_z})\n",
    "            if i % 100 == 0:\n",
    "                gtd = aae.sess.run(aae.generated, feed_dict={aae.z_tensor: sample_prior(size=(4, 10))})\n",
    "#                 plot_mnist(gtd.reshape([4, 28, 28]), [1, 4])\n",
    "                print(gloss)"
   ]
  },
  {
   "cell_type": "code",
   "execution_count": 28,
   "metadata": {},
   "outputs": [
    {
     "name": "stdout",
     "output_type": "stream",
     "text": [
      "0.6480325\n",
      "0.6460034\n",
      "0.6585261\n",
      "0.6981448\n",
      "0.71628106\n",
      "0.7490401\n",
      "0.80281675\n",
      "0.8664314\n",
      "0.9384989\n",
      "1.0152477\n"
     ]
    }
   ],
   "source": [
    "aae = AAE()\n",
    "aae.train()"
   ]
  },
  {
   "cell_type": "code",
   "execution_count": null,
   "metadata": {},
   "outputs": [],
   "source": []
  }
 ],
 "metadata": {
  "kernelspec": {
   "display_name": "Python 3",
   "language": "python",
   "name": "python3"
  },
  "language_info": {
   "codemirror_mode": {
    "name": "ipython",
    "version": 3
   },
   "file_extension": ".py",
   "mimetype": "text/x-python",
   "name": "python",
   "nbconvert_exporter": "python",
   "pygments_lexer": "ipython3",
   "version": "3.7.3"
  }
 },
 "nbformat": 4,
 "nbformat_minor": 2
}
